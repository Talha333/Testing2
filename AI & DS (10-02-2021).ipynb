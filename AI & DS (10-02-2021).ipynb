{
 "cells": [
  {
   "cell_type": "markdown",
   "metadata": {},
   "source": [
    "# FILES & EXCEPTION"
   ]
  },
  {
   "cell_type": "markdown",
   "metadata": {},
   "source": [
    ".Read\n",
    ".write\n",
    ".append\n",
    ".read+\n",
    ".write+\n",
    ".binary"
   ]
  },
  {
   "cell_type": "code",
   "execution_count": 10,
   "metadata": {},
   "outputs": [
    {
     "name": "stdout",
     "output_type": "stream",
     "text": [
      "\"\"\"A class that can be used to represent a car.\"\"\"\n",
      "class Car:\n",
      "    \"\"\"A simple attempt to represent a car.\"\"\"\n",
      "\n",
      "def __init__(self, make, model, year):\n",
      "    \"\"\"Initialize attributes to describe a car.\"\"\"\n",
      "    self.make = make\n",
      "    self.model = model\n",
      "    self.year = year\n",
      "    self.odometer_reading = 0\n",
      "\n",
      "def get_descriptive_name(self):\n",
      "    \"\"\"Return a neatly formatted descriptive name.\"\"\"\n",
      "    long_name = f\"{self.year} {self.manufacturer} {self.model}\"\n",
      "    return long_name.title()\n",
      "\n",
      "def read_odometer(self):\n",
      "    \"\"\"Print a statement showing the car's mileage.\"\"\"\n",
      "    print(f\"This car has {self.odometer_reading} miles on it.\")\n",
      "\n",
      "def update_odometer(self, mileage):\n",
      "    \"\"\"\n",
      "    Set the odometer reading to the given value.\n",
      "    Reject the change if it attempts to roll the odometer back.\n",
      "    \"\"\"\n",
      "    if mileage >= self.odometer_reading:\n",
      "        self.odometer_reading = mileage\n",
      "    else:\n",
      "        print(\"You can't roll back an odometer!\")\n",
      "\n",
      "def increment_odometer(self, miles):\n",
      "    \"\"\"Add the given amount to the odometer reading.\"\"\"\n",
      "    self.odometer_reading += miles\n"
     ]
    }
   ],
   "source": [
    "with open('file1.txt') as file_object:\n",
    "    contents = file_object.read()\n",
    "print(contents)"
   ]
  },
  {
   "cell_type": "code",
   "execution_count": 16,
   "metadata": {},
   "outputs": [],
   "source": [
    "try:\n",
    "    with open('file1.txt') as f:\n",
    "        content = f.readlines()\n",
    "except FiletoFoundError:\n",
    "    print('There is no such file in the directory')\n",
    "    content =\"No content is store\"\n",
    "    "
   ]
  },
  {
   "cell_type": "code",
   "execution_count": 17,
   "metadata": {},
   "outputs": [
    {
     "name": "stdout",
     "output_type": "stream",
     "text": [
      "['\"\"\"A class that can be used to represent a car.\"\"\"\\n', 'class Car:\\n', '    \"\"\"A simple attempt to represent a car.\"\"\"\\n', '\\n', 'def __init__(self, make, model, year):\\n', '    \"\"\"Initialize attributes to describe a car.\"\"\"\\n', '    self.make = make\\n', '    self.model = model\\n', '    self.year = year\\n', '    self.odometer_reading = 0\\n', '\\n', 'def get_descriptive_name(self):\\n', '    \"\"\"Return a neatly formatted descriptive name.\"\"\"\\n', '    long_name = f\"{self.year} {self.manufacturer} {self.model}\"\\n', '    return long_name.title()\\n', '\\n', 'def read_odometer(self):\\n', '    \"\"\"Print a statement showing the car\\'s mileage.\"\"\"\\n', '    print(f\"This car has {self.odometer_reading} miles on it.\")\\n', '\\n', 'def update_odometer(self, mileage):\\n', '    \"\"\"\\n', '    Set the odometer reading to the given value.\\n', '    Reject the change if it attempts to roll the odometer back.\\n', '    \"\"\"\\n', '    if mileage >= self.odometer_reading:\\n', '        self.odometer_reading = mileage\\n', '    else:\\n', '        print(\"You can\\'t roll back an odometer!\")\\n', '\\n', 'def increment_odometer(self, miles):\\n', '    \"\"\"Add the given amount to the odometer reading.\"\"\"\\n', '    self.odometer_reading += miles']\n"
     ]
    }
   ],
   "source": [
    "print(content)"
   ]
  },
  {
   "cell_type": "code",
   "execution_count": 19,
   "metadata": {},
   "outputs": [
    {
     "name": "stdout",
     "output_type": "stream",
     "text": [
      "This is file1 line1\n",
      "This is file2 line2\n",
      "This is file3 line3\n",
      "This is file4 line4\n",
      "This is file5 line5\n",
      "This is file6 line6\n"
     ]
    }
   ],
   "source": [
    "with open(\"file1.txt\") as f:\n",
    "    data = f.read()\n",
    "    data1 = f.readline()\n",
    "    data2 = f.readline()\n",
    "    print(data)"
   ]
  },
  {
   "cell_type": "code",
   "execution_count": 23,
   "metadata": {},
   "outputs": [
    {
     "name": "stdout",
     "output_type": "stream",
     "text": [
      "This is file1 line1\n",
      "\n",
      "his\n",
      "is is file1 line1\n",
      "\n"
     ]
    }
   ],
   "source": [
    "with open(\"file1.txt\") as f:\n",
    "    data = f.read()\n",
    "    data1 = f.readline()\n",
    "    f.seek(1)\n",
    "    data1 = f.readline(3)\n",
    "    f.seek(2)\n",
    "    data2 = f.readline()\n",
    "print(data)\n",
    "print(data1)\n",
    "print(data2)"
   ]
  },
  {
   "cell_type": "code",
   "execution_count": 28,
   "metadata": {},
   "outputs": [],
   "source": [
    "with open('file1.txt',\"w\") as w:\n",
    "    w.write(\"We are in write Mode\")"
   ]
  },
  {
   "cell_type": "code",
   "execution_count": 29,
   "metadata": {},
   "outputs": [],
   "source": [
    "with open('file1.txt', 'w') as w:\n",
    "    w.write(\"We are in write Mode\")\n",
    "    w.write(\"We are in write Mode\")\n",
    "    w.write(\"We are in write Mode\")\n",
    "    w.write(\"We are in write Mode\")"
   ]
  },
  {
   "cell_type": "code",
   "execution_count": 32,
   "metadata": {},
   "outputs": [
    {
     "data": {
      "text/plain": [
       "'Hello User'"
      ]
     },
     "execution_count": 32,
     "metadata": {},
     "output_type": "execute_result"
    }
   ],
   "source": [
    "with open('file1.txt', \"w+\") as obj:\n",
    "    obj.write(\"Hello User\")\n",
    "    obj.read()\n",
    "    obj.seek(0)\n",
    "    c = obj.read()\n",
    "c"
   ]
  },
  {
   "cell_type": "code",
   "execution_count": 33,
   "metadata": {},
   "outputs": [
    {
     "data": {
      "text/plain": [
       "'Hello User'"
      ]
     },
     "execution_count": 33,
     "metadata": {},
     "output_type": "execute_result"
    }
   ],
   "source": [
    "with open('file1.txt', \"r+\") as obj:\n",
    "    obj.write(\"Hello User\")\n",
    "    obj.read()\n",
    "    obj.seek(0)\n",
    "    c = obj.read()\n",
    "c"
   ]
  },
  {
   "cell_type": "code",
   "execution_count": null,
   "metadata": {},
   "outputs": [
    {
     "name": "stdout",
     "output_type": "stream",
     "text": [
      "Enter 'quit' when you are finished.\n",
      "\n",
      "What's your name? JOHN\n",
      "Hi JOHN, you've been added to the guest book.\n",
      "\n",
      "What's your name? PETER\n",
      "Hi PETER, you've been added to the guest book.\n"
     ]
    }
   ],
   "source": [
    "filename = 'guestS.txt'\n",
    "\n",
    "print(\"Enter 'quit' when you are finished.\")\n",
    "while True:\n",
    "    name = input(\"\\nWhat's your name? \")\n",
    "    if name == 'quit':\n",
    "        break\n",
    "    else:\n",
    "        with open(filename, 'a') as f:\n",
    "            f.write(name + \"\\n\")\n",
    "        print(\"Hi \" + name + \", you've been added to the guest book.\")"
   ]
  },
  {
   "cell_type": "code",
   "execution_count": null,
   "metadata": {},
   "outputs": [],
   "source": []
  }
 ],
 "metadata": {
  "kernelspec": {
   "display_name": "Python 3",
   "language": "python",
   "name": "python3"
  },
  "language_info": {
   "codemirror_mode": {
    "name": "ipython",
    "version": 3
   },
   "file_extension": ".py",
   "mimetype": "text/x-python",
   "name": "python",
   "nbconvert_exporter": "python",
   "pygments_lexer": "ipython3",
   "version": "3.8.5"
  }
 },
 "nbformat": 4,
 "nbformat_minor": 4
}
